{
 "cells": [
  {
   "cell_type": "code",
   "execution_count": 76,
   "metadata": {},
   "outputs": [],
   "source": [
    "import pandas as pd\n",
    "from datetime import datetime"
   ]
  },
  {
   "cell_type": "code",
   "execution_count": 2,
   "metadata": {},
   "outputs": [],
   "source": [
    "string = 'Name1 Surname1, Name2 Surname2, …'"
   ]
  },
  {
   "cell_type": "code",
   "execution_count": 3,
   "metadata": {},
   "outputs": [
    {
     "data": {
      "text/plain": [
       "['Name1', 'Surname1,', 'Name2', 'Surname2,', '…']"
      ]
     },
     "execution_count": 3,
     "metadata": {},
     "output_type": "execute_result"
    }
   ],
   "source": [
    "string.split()"
   ]
  },
  {
   "cell_type": "code",
   "execution_count": 36,
   "metadata": {},
   "outputs": [],
   "source": [
    "#Строка names содержит имена в формате 'Name1 Surname1, Name2 Surname2, …'.\n",
    "#Поместите в переменную names_list список со строками имён – ['Name1 Surname1', 'Name2 Surname2', …]\n",
    "df = pd.DataFrame({\n",
    "    'client_id' : [1,34,54,67],\n",
    "    'sex' : [0,1,1,0],\n",
    "    'wealth' : ['medium', 'medium', 'high', 'low'],\n",
    "    'age' : [67,65,43,13]\n",
    "})"
   ]
  },
  {
   "cell_type": "code",
   "execution_count": 11,
   "metadata": {},
   "outputs": [],
   "source": [
    "#Отберите из них только те, где wealth 'medium', а возраст больше 35, и поместите в переменную medium_35\n",
    "medium_35 = df.query('wealth == medium'and 'age > 35')"
   ]
  },
  {
   "cell_type": "code",
   "execution_count": 12,
   "metadata": {},
   "outputs": [
    {
     "data": {
      "text/html": [
       "<div>\n",
       "<style scoped>\n",
       "    .dataframe tbody tr th:only-of-type {\n",
       "        vertical-align: middle;\n",
       "    }\n",
       "\n",
       "    .dataframe tbody tr th {\n",
       "        vertical-align: top;\n",
       "    }\n",
       "\n",
       "    .dataframe thead th {\n",
       "        text-align: right;\n",
       "    }\n",
       "</style>\n",
       "<table border=\"1\" class=\"dataframe\">\n",
       "  <thead>\n",
       "    <tr style=\"text-align: right;\">\n",
       "      <th></th>\n",
       "      <th>client_id</th>\n",
       "      <th>sex</th>\n",
       "      <th>wealth</th>\n",
       "      <th>age</th>\n",
       "    </tr>\n",
       "  </thead>\n",
       "  <tbody>\n",
       "    <tr>\n",
       "      <th>0</th>\n",
       "      <td>1</td>\n",
       "      <td>0</td>\n",
       "      <td>medium</td>\n",
       "      <td>67</td>\n",
       "    </tr>\n",
       "    <tr>\n",
       "      <th>1</th>\n",
       "      <td>34</td>\n",
       "      <td>1</td>\n",
       "      <td>medium</td>\n",
       "      <td>65</td>\n",
       "    </tr>\n",
       "    <tr>\n",
       "      <th>2</th>\n",
       "      <td>54</td>\n",
       "      <td>1</td>\n",
       "      <td>high</td>\n",
       "      <td>43</td>\n",
       "    </tr>\n",
       "  </tbody>\n",
       "</table>\n",
       "</div>"
      ],
      "text/plain": [
       "   client_id  sex  wealth  age\n",
       "0          1    0  medium   67\n",
       "1         34    1  medium   65\n",
       "2         54    1    high   43"
      ]
     },
     "execution_count": 12,
     "metadata": {},
     "output_type": "execute_result"
    }
   ],
   "source": [
    "medium_35"
   ]
  },
  {
   "cell_type": "code",
   "execution_count": 13,
   "metadata": {},
   "outputs": [],
   "source": [
    "df.columns = ['Клиент id','Пол','Благосостояние', 'Возраст']"
   ]
  },
  {
   "cell_type": "code",
   "execution_count": 15,
   "metadata": {},
   "outputs": [],
   "source": [
    "#Приведите таблицу к каноничному виду, сохранив её в ту же переменную df, где сейчас находится нестандартно наименнованная таблица (воспользуйтесь методом rename)\n",
    "correspondance = {'Клиент id' : 'id', 'Пол' : 'sex', 'Благосостояние' : 'wealth', 'Возраст' : 'Age'}"
   ]
  },
  {
   "cell_type": "code",
   "execution_count": 20,
   "metadata": {},
   "outputs": [],
   "source": [
    "#Приведите таблицу к каноничному виду, сохранив её в ту же переменную df, где сейчас находится нестандартно наименнованная таблица (воспользуйтесь методом rename)\n",
    "df.rename(columns = correspondance, inplace = True)"
   ]
  },
  {
   "cell_type": "code",
   "execution_count": 22,
   "metadata": {},
   "outputs": [],
   "source": [
    "#Добавьте в исследуемый нами датафрэйм df колонку older_than_30, в которой будет храниться больше ли возраст 30 лет (булиновское значение)\n",
    "df['older_than_30'] = df.Age > 30"
   ]
  },
  {
   "cell_type": "code",
   "execution_count": 24,
   "metadata": {},
   "outputs": [
    {
     "data": {
      "text/plain": [
       "id               4\n",
       "sex              2\n",
       "wealth           3\n",
       "Age              4\n",
       "older_than_30    2\n",
       "dtype: int64"
      ]
     },
     "execution_count": 24,
     "metadata": {},
     "output_type": "execute_result"
    }
   ],
   "source": [
    "#А теперь получите серию с числом уникальных значений для каждой колонки и присвойте её переменной unique_num\n",
    "df.nunique()"
   ]
  },
  {
   "cell_type": "code",
   "execution_count": 25,
   "metadata": {},
   "outputs": [],
   "source": [
    "data = pd.DataFrame({\n",
    "    'client_id' : [1,34,54,67],\n",
    "    'amount' : [20,41,51,90],\n",
    "    'date' : [156789424,156789429,15678942466,156779424]\n",
    "})"
   ]
  },
  {
   "cell_type": "code",
   "execution_count": 35,
   "metadata": {},
   "outputs": [
    {
     "data": {
      "text/html": [
       "<div>\n",
       "<style scoped>\n",
       "    .dataframe tbody tr th:only-of-type {\n",
       "        vertical-align: middle;\n",
       "    }\n",
       "\n",
       "    .dataframe tbody tr th {\n",
       "        vertical-align: top;\n",
       "    }\n",
       "\n",
       "    .dataframe thead th {\n",
       "        text-align: right;\n",
       "    }\n",
       "</style>\n",
       "<table border=\"1\" class=\"dataframe\">\n",
       "  <thead>\n",
       "    <tr style=\"text-align: right;\">\n",
       "      <th></th>\n",
       "      <th>client_id</th>\n",
       "      <th>amount</th>\n",
       "      <th>date</th>\n",
       "    </tr>\n",
       "  </thead>\n",
       "  <tbody>\n",
       "    <tr>\n",
       "      <th>0</th>\n",
       "      <td>1</td>\n",
       "      <td>20</td>\n",
       "      <td>156789424</td>\n",
       "    </tr>\n",
       "    <tr>\n",
       "      <th>1</th>\n",
       "      <td>34</td>\n",
       "      <td>41</td>\n",
       "      <td>156789429</td>\n",
       "    </tr>\n",
       "    <tr>\n",
       "      <th>2</th>\n",
       "      <td>54</td>\n",
       "      <td>51</td>\n",
       "      <td>15678942466</td>\n",
       "    </tr>\n",
       "    <tr>\n",
       "      <th>3</th>\n",
       "      <td>67</td>\n",
       "      <td>90</td>\n",
       "      <td>156779424</td>\n",
       "    </tr>\n",
       "  </tbody>\n",
       "</table>\n",
       "</div>"
      ],
      "text/plain": [
       "   client_id  amount         date\n",
       "0          1      20    156789424\n",
       "1         34      41    156789429\n",
       "2         54      51  15678942466\n",
       "3         67      90    156779424"
      ]
     },
     "execution_count": 35,
     "metadata": {},
     "output_type": "execute_result"
    }
   ],
   "source": [
    "data"
   ]
  },
  {
   "cell_type": "code",
   "execution_count": 38,
   "metadata": {},
   "outputs": [],
   "source": [
    "#Проведите inner join датафрейма data с df из предыдущего шага, объединив их по колонке client_id, и поместите результат в переменную full_data (да, придумывать переменные иногда бывает сложно)\n",
    "\n",
    "full_data = df.merge(data, on='client_id', how = 'inner')"
   ]
  },
  {
   "cell_type": "code",
   "execution_count": 60,
   "metadata": {},
   "outputs": [
    {
     "data": {
      "text/html": [
       "<div>\n",
       "<style scoped>\n",
       "    .dataframe tbody tr th:only-of-type {\n",
       "        vertical-align: middle;\n",
       "    }\n",
       "\n",
       "    .dataframe tbody tr th {\n",
       "        vertical-align: top;\n",
       "    }\n",
       "\n",
       "    .dataframe thead th {\n",
       "        text-align: right;\n",
       "    }\n",
       "</style>\n",
       "<table border=\"1\" class=\"dataframe\">\n",
       "  <thead>\n",
       "    <tr style=\"text-align: right;\">\n",
       "      <th></th>\n",
       "      <th>income</th>\n",
       "    </tr>\n",
       "    <tr>\n",
       "      <th>company</th>\n",
       "      <th></th>\n",
       "    </tr>\n",
       "  </thead>\n",
       "  <tbody>\n",
       "    <tr>\n",
       "      <th>En +</th>\n",
       "      <td>9.962187e+10</td>\n",
       "    </tr>\n",
       "    <tr>\n",
       "      <th>АО «Александрова, Савельев и Мельникова»</th>\n",
       "      <td>7.206782e+10</td>\n",
       "    </tr>\n",
       "    <tr>\n",
       "      <th>АО «Андреев-Анисимов»</th>\n",
       "      <td>6.931948e+09</td>\n",
       "    </tr>\n",
       "    <tr>\n",
       "      <th>АО «Андреев-Макарова»</th>\n",
       "      <td>8.934380e+10</td>\n",
       "    </tr>\n",
       "    <tr>\n",
       "      <th>АО «Большаков Кошелева»</th>\n",
       "      <td>7.860861e+10</td>\n",
       "    </tr>\n",
       "    <tr>\n",
       "      <th>АО «Горшков»</th>\n",
       "      <td>9.363675e+10</td>\n",
       "    </tr>\n",
       "    <tr>\n",
       "      <th>АО «Гусева»</th>\n",
       "      <td>8.295779e+10</td>\n",
       "    </tr>\n",
       "    <tr>\n",
       "      <th>АО «Дорофеев-Шубина»</th>\n",
       "      <td>1.189581e+08</td>\n",
       "    </tr>\n",
       "    <tr>\n",
       "      <th>АО «Елисеев-Баранов»</th>\n",
       "      <td>3.626328e+10</td>\n",
       "    </tr>\n",
       "    <tr>\n",
       "      <th>АО «Зайцева Фомин»</th>\n",
       "      <td>2.150642e+10</td>\n",
       "    </tr>\n",
       "    <tr>\n",
       "      <th>АО «Кириллов, Шубин и Веселова»</th>\n",
       "      <td>1.975697e+09</td>\n",
       "    </tr>\n",
       "    <tr>\n",
       "      <th>АО «Князева»</th>\n",
       "      <td>1.975841e+09</td>\n",
       "    </tr>\n",
       "    <tr>\n",
       "      <th>АО «Константинова, Соболева и Мухин»</th>\n",
       "      <td>9.434042e+10</td>\n",
       "    </tr>\n",
       "    <tr>\n",
       "      <th>АО «Лобанова, Мартынова и Прохорова»</th>\n",
       "      <td>6.360475e+10</td>\n",
       "    </tr>\n",
       "    <tr>\n",
       "      <th>АО «Михайлова»</th>\n",
       "      <td>6.031219e+09</td>\n",
       "    </tr>\n",
       "    <tr>\n",
       "      <th>АО «Мишин Гаврилова»</th>\n",
       "      <td>7.444392e+10</td>\n",
       "    </tr>\n",
       "    <tr>\n",
       "      <th>АО «Молчанова Соловьев»</th>\n",
       "      <td>7.021135e+10</td>\n",
       "    </tr>\n",
       "    <tr>\n",
       "      <th>АО «Носкова»</th>\n",
       "      <td>5.394900e+10</td>\n",
       "    </tr>\n",
       "    <tr>\n",
       "      <th>АО «Павлова, Одинцов и Маслова»</th>\n",
       "      <td>6.195403e+10</td>\n",
       "    </tr>\n",
       "    <tr>\n",
       "      <th>АО «Панфилова»</th>\n",
       "      <td>2.765542e+10</td>\n",
       "    </tr>\n",
       "    <tr>\n",
       "      <th>АО «Потапова»</th>\n",
       "      <td>8.929277e+10</td>\n",
       "    </tr>\n",
       "    <tr>\n",
       "      <th>АО «Семенов Якушев»</th>\n",
       "      <td>7.460802e+10</td>\n",
       "    </tr>\n",
       "    <tr>\n",
       "      <th>АО «Тетерин, Волков и Исаев»</th>\n",
       "      <td>4.058185e+10</td>\n",
       "    </tr>\n",
       "    <tr>\n",
       "      <th>АО «Третьякова, Дьячкова и Цветков»</th>\n",
       "      <td>3.342656e+09</td>\n",
       "    </tr>\n",
       "    <tr>\n",
       "      <th>АО «Фомичева-Пестов»</th>\n",
       "      <td>7.566486e+10</td>\n",
       "    </tr>\n",
       "    <tr>\n",
       "      <th>АО «Фролова Громов»</th>\n",
       "      <td>5.009990e+10</td>\n",
       "    </tr>\n",
       "    <tr>\n",
       "      <th>АО «Шарапова-Маслов»</th>\n",
       "      <td>3.302584e+10</td>\n",
       "    </tr>\n",
       "    <tr>\n",
       "      <th>АСР-Углесбыт</th>\n",
       "      <td>2.421283e+10</td>\n",
       "    </tr>\n",
       "    <tr>\n",
       "      <th>Авдеев Инкорпорэйтед</th>\n",
       "      <td>7.233496e+10</td>\n",
       "    </tr>\n",
       "    <tr>\n",
       "      <th>Авиакомпания ЮТэйр</th>\n",
       "      <td>3.542562e+09</td>\n",
       "    </tr>\n",
       "    <tr>\n",
       "      <th>...</th>\n",
       "      <td>...</td>\n",
       "    </tr>\n",
       "    <tr>\n",
       "      <th>Сбербанк России</th>\n",
       "      <td>8.930138e+10</td>\n",
       "    </tr>\n",
       "    <tr>\n",
       "      <th>Северный ветер</th>\n",
       "      <td>5.757211e+10</td>\n",
       "    </tr>\n",
       "    <tr>\n",
       "      <th>Семенов Инкорпорэйтед</th>\n",
       "      <td>4.388080e+10</td>\n",
       "    </tr>\n",
       "    <tr>\n",
       "      <th>Семенова Лтд</th>\n",
       "      <td>4.211289e+10</td>\n",
       "    </tr>\n",
       "    <tr>\n",
       "      <th>Сладковско-Заречное</th>\n",
       "      <td>5.195369e+10</td>\n",
       "    </tr>\n",
       "    <tr>\n",
       "      <th>Стройгазмонтаж</th>\n",
       "      <td>5.635915e+10</td>\n",
       "    </tr>\n",
       "    <tr>\n",
       "      <th>Стройсервис</th>\n",
       "      <td>8.765751e+10</td>\n",
       "    </tr>\n",
       "    <tr>\n",
       "      <th>Субботин Лимитед</th>\n",
       "      <td>2.814068e+10</td>\n",
       "    </tr>\n",
       "    <tr>\n",
       "      <th>Сэтл групп</th>\n",
       "      <td>6.152280e+09</td>\n",
       "    </tr>\n",
       "    <tr>\n",
       "      <th>Т2 РТК Холдинг</th>\n",
       "      <td>4.022727e+10</td>\n",
       "    </tr>\n",
       "    <tr>\n",
       "      <th>ТГК-16</th>\n",
       "      <td>5.809075e+10</td>\n",
       "    </tr>\n",
       "    <tr>\n",
       "      <th>Техинком</th>\n",
       "      <td>7.220523e+10</td>\n",
       "    </tr>\n",
       "    <tr>\n",
       "      <th>Тимофеев Групп</th>\n",
       "      <td>4.567765e+10</td>\n",
       "    </tr>\n",
       "    <tr>\n",
       "      <th>Титан</th>\n",
       "      <td>2.398260e+10</td>\n",
       "    </tr>\n",
       "    <tr>\n",
       "      <th>Транслом</th>\n",
       "      <td>9.009888e+10</td>\n",
       "    </tr>\n",
       "    <tr>\n",
       "      <th>Транстрейдойл</th>\n",
       "      <td>6.715879e+10</td>\n",
       "    </tr>\n",
       "    <tr>\n",
       "      <th>Третьяков Инкорпорэйтед</th>\n",
       "      <td>7.320770e+10</td>\n",
       "    </tr>\n",
       "    <tr>\n",
       "      <th>Уральские авиалинии</th>\n",
       "      <td>6.282013e+10</td>\n",
       "    </tr>\n",
       "    <tr>\n",
       "      <th>Устинова Инкорпорэйтед</th>\n",
       "      <td>8.996989e+10</td>\n",
       "    </tr>\n",
       "    <tr>\n",
       "      <th>ФМСМ (PMI)</th>\n",
       "      <td>1.846101e+10</td>\n",
       "    </tr>\n",
       "    <tr>\n",
       "      <th>Фармкомплект</th>\n",
       "      <td>8.382911e+10</td>\n",
       "    </tr>\n",
       "    <tr>\n",
       "      <th>Хоум Кредит энд Финанс Банк (PPF)</th>\n",
       "      <td>8.582046e+09</td>\n",
       "    </tr>\n",
       "    <tr>\n",
       "      <th>Ширяева Инкорпорэйтед</th>\n",
       "      <td>6.717606e+10</td>\n",
       "    </tr>\n",
       "    <tr>\n",
       "      <th>Шубин Инк</th>\n",
       "      <td>4.170428e+10</td>\n",
       "    </tr>\n",
       "    <tr>\n",
       "      <th>Шубин Лимитед</th>\n",
       "      <td>2.825758e+10</td>\n",
       "    </tr>\n",
       "    <tr>\n",
       "      <th>Щекиноазот</th>\n",
       "      <td>4.309092e+10</td>\n",
       "    </tr>\n",
       "    <tr>\n",
       "      <th>Щукин Лимитед</th>\n",
       "      <td>6.703036e+10</td>\n",
       "    </tr>\n",
       "    <tr>\n",
       "      <th>Эйвон Бьюти Продактс Компани (Avon)</th>\n",
       "      <td>2.503657e+10</td>\n",
       "    </tr>\n",
       "    <tr>\n",
       "      <th>Яковлева Инкорпорэйтед</th>\n",
       "      <td>3.523436e+10</td>\n",
       "    </tr>\n",
       "    <tr>\n",
       "      <th>Якушев Лимитед</th>\n",
       "      <td>3.876468e+10</td>\n",
       "    </tr>\n",
       "  </tbody>\n",
       "</table>\n",
       "<p>289 rows × 1 columns</p>\n",
       "</div>"
      ],
      "text/plain": [
       "                                                income\n",
       "company                                               \n",
       "En +                                      9.962187e+10\n",
       "АО «Александрова, Савельев и Мельникова»  7.206782e+10\n",
       "АО «Андреев-Анисимов»                     6.931948e+09\n",
       "АО «Андреев-Макарова»                     8.934380e+10\n",
       "АО «Большаков Кошелева»                   7.860861e+10\n",
       "АО «Горшков»                              9.363675e+10\n",
       "АО «Гусева»                               8.295779e+10\n",
       "АО «Дорофеев-Шубина»                      1.189581e+08\n",
       "АО «Елисеев-Баранов»                      3.626328e+10\n",
       "АО «Зайцева Фомин»                        2.150642e+10\n",
       "АО «Кириллов, Шубин и Веселова»           1.975697e+09\n",
       "АО «Князева»                              1.975841e+09\n",
       "АО «Константинова, Соболева и Мухин»      9.434042e+10\n",
       "АО «Лобанова, Мартынова и Прохорова»      6.360475e+10\n",
       "АО «Михайлова»                            6.031219e+09\n",
       "АО «Мишин Гаврилова»                      7.444392e+10\n",
       "АО «Молчанова Соловьев»                   7.021135e+10\n",
       "АО «Носкова»                              5.394900e+10\n",
       "АО «Павлова, Одинцов и Маслова»           6.195403e+10\n",
       "АО «Панфилова»                            2.765542e+10\n",
       "АО «Потапова»                             8.929277e+10\n",
       "АО «Семенов Якушев»                       7.460802e+10\n",
       "АО «Тетерин, Волков и Исаев»              4.058185e+10\n",
       "АО «Третьякова, Дьячкова и Цветков»       3.342656e+09\n",
       "АО «Фомичева-Пестов»                      7.566486e+10\n",
       "АО «Фролова Громов»                       5.009990e+10\n",
       "АО «Шарапова-Маслов»                      3.302584e+10\n",
       "АСР-Углесбыт                              2.421283e+10\n",
       "Авдеев Инкорпорэйтед                      7.233496e+10\n",
       "Авиакомпания ЮТэйр                        3.542562e+09\n",
       "...                                                ...\n",
       "Сбербанк России                           8.930138e+10\n",
       "Северный ветер                            5.757211e+10\n",
       "Семенов Инкорпорэйтед                     4.388080e+10\n",
       "Семенова Лтд                              4.211289e+10\n",
       "Сладковско-Заречное                       5.195369e+10\n",
       "Стройгазмонтаж                            5.635915e+10\n",
       "Стройсервис                               8.765751e+10\n",
       "Субботин Лимитед                          2.814068e+10\n",
       "Сэтл групп                                6.152280e+09\n",
       "Т2 РТК Холдинг                            4.022727e+10\n",
       "ТГК-16                                    5.809075e+10\n",
       "Техинком                                  7.220523e+10\n",
       "Тимофеев Групп                            4.567765e+10\n",
       "Титан                                     2.398260e+10\n",
       "Транслом                                  9.009888e+10\n",
       "Транстрейдойл                             6.715879e+10\n",
       "Третьяков Инкорпорэйтед                   7.320770e+10\n",
       "Уральские авиалинии                       6.282013e+10\n",
       "Устинова Инкорпорэйтед                    8.996989e+10\n",
       "ФМСМ (PMI)                                1.846101e+10\n",
       "Фармкомплект                              8.382911e+10\n",
       "Хоум Кредит энд Финанс Банк (PPF)         8.582046e+09\n",
       "Ширяева Инкорпорэйтед                     6.717606e+10\n",
       "Шубин Инк                                 4.170428e+10\n",
       "Шубин Лимитед                             2.825758e+10\n",
       "Щекиноазот                                4.309092e+10\n",
       "Щукин Лимитед                             6.703036e+10\n",
       "Эйвон Бьюти Продактс Компани (Avon)       2.503657e+10\n",
       "Яковлева Инкорпорэйтед                    3.523436e+10\n",
       "Якушев Лимитед                            3.876468e+10\n",
       "\n",
       "[289 rows x 1 columns]"
      ]
     },
     "execution_count": 60,
     "metadata": {},
     "output_type": "execute_result"
    }
   ],
   "source": [
    "df = pd.read_csv('https://stepik.org/media/attachments/lesson/359209/companies.csv', sep=';')\n",
    "df.groupby('company').\\\n",
    "    agg({'income' : 'mean'})"
   ]
  },
  {
   "cell_type": "code",
   "execution_count": 68,
   "metadata": {},
   "outputs": [],
   "source": [
    "#Напишите функцию read_n_agg, которая\n",
    "#принимает на вход один параметр – путь к файлу\n",
    "#считывает переданный файл, в котором разделителем является ;\n",
    "#считает средний заработок (income) по каждой компании (company), перенося колонку company в индекс (as_index=True)\n",
    "#возвращает результат этих действий (агрегированный датафрэйм)\n",
    "\n",
    "\n",
    "def read_n_agg(path):\n",
    "    df = pd.read_csv(path, sep=';')\n",
    "    res = df.groupby('company').\\\n",
    "    agg({'income' : 'mean'})\n",
    "    return(res)\n",
    "    "
   ]
  },
  {
   "cell_type": "code",
   "execution_count": 69,
   "metadata": {},
   "outputs": [],
   "source": [
    "path = 'https://stepik.org/media/attachments/lesson/359209/companies.csv'"
   ]
  },
  {
   "cell_type": "code",
   "execution_count": 71,
   "metadata": {},
   "outputs": [
    {
     "data": {
      "text/html": [
       "<div>\n",
       "<style scoped>\n",
       "    .dataframe tbody tr th:only-of-type {\n",
       "        vertical-align: middle;\n",
       "    }\n",
       "\n",
       "    .dataframe tbody tr th {\n",
       "        vertical-align: top;\n",
       "    }\n",
       "\n",
       "    .dataframe thead th {\n",
       "        text-align: right;\n",
       "    }\n",
       "</style>\n",
       "<table border=\"1\" class=\"dataframe\">\n",
       "  <thead>\n",
       "    <tr style=\"text-align: right;\">\n",
       "      <th></th>\n",
       "      <th>income</th>\n",
       "    </tr>\n",
       "    <tr>\n",
       "      <th>company</th>\n",
       "      <th></th>\n",
       "    </tr>\n",
       "  </thead>\n",
       "  <tbody>\n",
       "    <tr>\n",
       "      <th>En +</th>\n",
       "      <td>9.962187e+10</td>\n",
       "    </tr>\n",
       "    <tr>\n",
       "      <th>АО «Александрова, Савельев и Мельникова»</th>\n",
       "      <td>7.206782e+10</td>\n",
       "    </tr>\n",
       "    <tr>\n",
       "      <th>АО «Андреев-Анисимов»</th>\n",
       "      <td>6.931948e+09</td>\n",
       "    </tr>\n",
       "    <tr>\n",
       "      <th>АО «Андреев-Макарова»</th>\n",
       "      <td>8.934380e+10</td>\n",
       "    </tr>\n",
       "    <tr>\n",
       "      <th>АО «Большаков Кошелева»</th>\n",
       "      <td>7.860861e+10</td>\n",
       "    </tr>\n",
       "  </tbody>\n",
       "</table>\n",
       "</div>"
      ],
      "text/plain": [
       "                                                income\n",
       "company                                               \n",
       "En +                                      9.962187e+10\n",
       "АО «Александрова, Савельев и Мельникова»  7.206782e+10\n",
       "АО «Андреев-Анисимов»                     6.931948e+09\n",
       "АО «Андреев-Макарова»                     8.934380e+10\n",
       "АО «Большаков Кошелева»                   7.860861e+10"
      ]
     },
     "execution_count": 71,
     "metadata": {},
     "output_type": "execute_result"
    }
   ],
   "source": [
    " read_n_agg('https://stepik.org/media/attachments/lesson/359209/companies.csv').head()"
   ]
  },
  {
   "cell_type": "code",
   "execution_count": 73,
   "metadata": {},
   "outputs": [],
   "source": [
    "path1 = 'https://stepik.org/media/attachments/lesson/359240/taxi_peru.csv'\n",
    "\n",
    "taxi = pd.read_csv(path1, \\\n",
    "                   sep=';',\\\n",
    "                   parse_dates=['start_at', 'end_at', 'arrived_at'])"
   ]
  },
  {
   "cell_type": "code",
   "execution_count": 85,
   "metadata": {},
   "outputs": [
    {
     "data": {
      "text/html": [
       "<div>\n",
       "<style scoped>\n",
       "    .dataframe tbody tr th:only-of-type {\n",
       "        vertical-align: middle;\n",
       "    }\n",
       "\n",
       "    .dataframe tbody tr th {\n",
       "        vertical-align: top;\n",
       "    }\n",
       "\n",
       "    .dataframe thead th {\n",
       "        text-align: right;\n",
       "    }\n",
       "</style>\n",
       "<table border=\"1\" class=\"dataframe\">\n",
       "  <thead>\n",
       "    <tr style=\"text-align: right;\">\n",
       "      <th></th>\n",
       "      <th>journey_id</th>\n",
       "      <th>user_id</th>\n",
       "      <th>driver_id</th>\n",
       "      <th>taxi_id</th>\n",
       "      <th>icon</th>\n",
       "      <th>start_type</th>\n",
       "      <th>start_at</th>\n",
       "      <th>start_lat</th>\n",
       "      <th>start_lon</th>\n",
       "      <th>end_at</th>\n",
       "      <th>end_lat</th>\n",
       "      <th>end_lon</th>\n",
       "      <th>end_state</th>\n",
       "      <th>driver_start_lat</th>\n",
       "      <th>driver_start_lon</th>\n",
       "      <th>arrived_at</th>\n",
       "      <th>source</th>\n",
       "      <th>driver_score</th>\n",
       "      <th>rider_score</th>\n",
       "    </tr>\n",
       "  </thead>\n",
       "  <tbody>\n",
       "    <tr>\n",
       "      <th>0</th>\n",
       "      <td>23a1406fc6a11d866e3c82f22eed4d4c</td>\n",
       "      <td>0e9af5bbf1edfe591b54ecdfd7e91e26</td>\n",
       "      <td>583949a89a9ee17d19e3ca4f137b6b4c</td>\n",
       "      <td>b12f4f09c783e29fe0d0ea624530db56</td>\n",
       "      <td>executive</td>\n",
       "      <td>asap</td>\n",
       "      <td>2010-11-16 16:44:00</td>\n",
       "      <td>-12,13983536</td>\n",
       "      <td>-77,02355957</td>\n",
       "      <td>2010-11-16 17:29:00</td>\n",
       "      <td>-12,05537033</td>\n",
       "      <td>-77,0413208</td>\n",
       "      <td>drop off</td>\n",
       "      <td>-12,10825481</td>\n",
       "      <td>-77,0272739</td>\n",
       "      <td>2010-11-16 17:02:00</td>\n",
       "      <td>iPhone</td>\n",
       "      <td>5.0</td>\n",
       "      <td>5.0</td>\n",
       "    </tr>\n",
       "    <tr>\n",
       "      <th>1</th>\n",
       "      <td>dd2af4715d0dc16eded53afc0e243577</td>\n",
       "      <td>a553c46e3a22fb9c326aeb3d72b3334e</td>\n",
       "      <td>NaN</td>\n",
       "      <td>NaN</td>\n",
       "      <td>executive</td>\n",
       "      <td>asap</td>\n",
       "      <td>2010-06-01 00:34:00</td>\n",
       "      <td>-12,13874817</td>\n",
       "      <td>-76,99536133</td>\n",
       "      <td>2010-06-01 00:37:00</td>\n",
       "      <td>-12,12465668</td>\n",
       "      <td>-77,02886963</td>\n",
       "      <td>not found</td>\n",
       "      <td>NaN</td>\n",
       "      <td>NaN</td>\n",
       "      <td>NaT</td>\n",
       "      <td>iPhone</td>\n",
       "      <td>NaN</td>\n",
       "      <td>NaN</td>\n",
       "    </tr>\n",
       "    <tr>\n",
       "      <th>2</th>\n",
       "      <td>dd91e131888064bf7df3ce08f3d4b4ad</td>\n",
       "      <td>a553c46e3a22fb9c326aeb3d72b3334e</td>\n",
       "      <td>NaN</td>\n",
       "      <td>NaN</td>\n",
       "      <td>executive</td>\n",
       "      <td>asap</td>\n",
       "      <td>2010-05-31 05:01:00</td>\n",
       "      <td>-12,12453079</td>\n",
       "      <td>-77,02780151</td>\n",
       "      <td>2010-05-31 05:04:00</td>\n",
       "      <td>-12,13883209</td>\n",
       "      <td>-76,99530029</td>\n",
       "      <td>not found</td>\n",
       "      <td>NaN</td>\n",
       "      <td>NaN</td>\n",
       "      <td>NaT</td>\n",
       "      <td>iPhone</td>\n",
       "      <td>NaN</td>\n",
       "      <td>NaN</td>\n",
       "    </tr>\n",
       "    <tr>\n",
       "      <th>3</th>\n",
       "      <td>dd2af4715d0dc16eded53afc0e2466d0</td>\n",
       "      <td>a553c46e3a22fb9c326aeb3d72b3334e</td>\n",
       "      <td>NaN</td>\n",
       "      <td>NaN</td>\n",
       "      <td>executive</td>\n",
       "      <td>asap</td>\n",
       "      <td>2010-06-01 00:29:00</td>\n",
       "      <td>-12,13885117</td>\n",
       "      <td>-76,99530029</td>\n",
       "      <td>2010-06-01 00:32:00</td>\n",
       "      <td>-12,12458801</td>\n",
       "      <td>-77,02896118</td>\n",
       "      <td>not found</td>\n",
       "      <td>NaN</td>\n",
       "      <td>NaN</td>\n",
       "      <td>NaT</td>\n",
       "      <td>iPhone</td>\n",
       "      <td>NaN</td>\n",
       "      <td>NaN</td>\n",
       "    </tr>\n",
       "    <tr>\n",
       "      <th>4</th>\n",
       "      <td>85b7eabcf5d84e42dc7629b7d27781af</td>\n",
       "      <td>56772d544fdfa589a020a1ff894a86f7</td>\n",
       "      <td>d665fb9f75ef5d9cd0fd89479380ba78</td>\n",
       "      <td>0accdd3aa5a322f4129fa20b53278c69</td>\n",
       "      <td>executive</td>\n",
       "      <td>reserved</td>\n",
       "      <td>2010-09-11 23:55:00</td>\n",
       "      <td>-12,08995438</td>\n",
       "      <td>-76,92626953</td>\n",
       "      <td>2010-09-12 01:07:00</td>\n",
       "      <td>-12,02223206</td>\n",
       "      <td>-77,10638428</td>\n",
       "      <td>drop off</td>\n",
       "      <td>-12,08311558</td>\n",
       "      <td>-76,9277072</td>\n",
       "      <td>2010-09-11 23:50:00</td>\n",
       "      <td>iPhone</td>\n",
       "      <td>4.0</td>\n",
       "      <td>5.0</td>\n",
       "    </tr>\n",
       "  </tbody>\n",
       "</table>\n",
       "</div>"
      ],
      "text/plain": [
       "                         journey_id                           user_id  \\\n",
       "0  23a1406fc6a11d866e3c82f22eed4d4c  0e9af5bbf1edfe591b54ecdfd7e91e26   \n",
       "1  dd2af4715d0dc16eded53afc0e243577  a553c46e3a22fb9c326aeb3d72b3334e   \n",
       "2  dd91e131888064bf7df3ce08f3d4b4ad  a553c46e3a22fb9c326aeb3d72b3334e   \n",
       "3  dd2af4715d0dc16eded53afc0e2466d0  a553c46e3a22fb9c326aeb3d72b3334e   \n",
       "4  85b7eabcf5d84e42dc7629b7d27781af  56772d544fdfa589a020a1ff894a86f7   \n",
       "\n",
       "                          driver_id                           taxi_id  \\\n",
       "0  583949a89a9ee17d19e3ca4f137b6b4c  b12f4f09c783e29fe0d0ea624530db56   \n",
       "1                               NaN                               NaN   \n",
       "2                               NaN                               NaN   \n",
       "3                               NaN                               NaN   \n",
       "4  d665fb9f75ef5d9cd0fd89479380ba78  0accdd3aa5a322f4129fa20b53278c69   \n",
       "\n",
       "        icon start_type            start_at     start_lat     start_lon  \\\n",
       "0  executive       asap 2010-11-16 16:44:00  -12,13983536  -77,02355957   \n",
       "1  executive       asap 2010-06-01 00:34:00  -12,13874817  -76,99536133   \n",
       "2  executive       asap 2010-05-31 05:01:00  -12,12453079  -77,02780151   \n",
       "3  executive       asap 2010-06-01 00:29:00  -12,13885117  -76,99530029   \n",
       "4  executive   reserved 2010-09-11 23:55:00  -12,08995438  -76,92626953   \n",
       "\n",
       "               end_at       end_lat       end_lon  end_state driver_start_lat  \\\n",
       "0 2010-11-16 17:29:00  -12,05537033   -77,0413208   drop off     -12,10825481   \n",
       "1 2010-06-01 00:37:00  -12,12465668  -77,02886963  not found              NaN   \n",
       "2 2010-05-31 05:04:00  -12,13883209  -76,99530029  not found              NaN   \n",
       "3 2010-06-01 00:32:00  -12,12458801  -77,02896118  not found              NaN   \n",
       "4 2010-09-12 01:07:00  -12,02223206  -77,10638428   drop off     -12,08311558   \n",
       "\n",
       "  driver_start_lon          arrived_at  source  driver_score  rider_score  \n",
       "0      -77,0272739 2010-11-16 17:02:00  iPhone           5.0          5.0  \n",
       "1              NaN                 NaT  iPhone           NaN          NaN  \n",
       "2              NaN                 NaT  iPhone           NaN          NaN  \n",
       "3              NaN                 NaT  iPhone           NaN          NaN  \n",
       "4      -76,9277072 2010-09-11 23:50:00  iPhone           4.0          5.0  "
      ]
     },
     "execution_count": 85,
     "metadata": {},
     "output_type": "execute_result"
    }
   ],
   "source": [
    "taxi.head()"
   ]
  },
  {
   "cell_type": "code",
   "execution_count": 86,
   "metadata": {},
   "outputs": [
    {
     "data": {
      "text/plain": [
       "object            14\n",
       "datetime64[ns]     3\n",
       "float64            2\n",
       "dtype: int64"
      ]
     },
     "execution_count": 86,
     "metadata": {},
     "output_type": "execute_result"
    }
   ],
   "source": [
    "taxi.dtypes.value_counts()"
   ]
  },
  {
   "cell_type": "code",
   "execution_count": 104,
   "metadata": {},
   "outputs": [
    {
     "data": {
      "text/plain": [
       "iPhone     42.15\n",
       "web        33.02\n",
       "Android    21.24\n",
       "iPad        2.47\n",
       "Wap         0.59\n",
       "Name: source, dtype: float64"
      ]
     },
     "execution_count": 104,
     "metadata": {},
     "output_type": "execute_result"
    }
   ],
   "source": [
    "#Проверьте, с какой платформы было сделано больше всего заказов. В ответе укажите значение в %, округлённое до целого.\n",
    "\n",
    "round(taxi.source.value_counts()/taxi.shape[0] * 100, 2)"
   ]
  },
  {
   "cell_type": "code",
   "execution_count": 105,
   "metadata": {},
   "outputs": [
    {
     "data": {
      "text/plain": [
       "'iPhone'"
      ]
     },
     "execution_count": 105,
     "metadata": {},
     "output_type": "execute_result"
    }
   ],
   "source": [
    "#Проверьте, с какой платформы было сделано больше всего заказов. В ответе укажите значение в %, округлённое до целого.\n",
    "\n",
    "(taxi.source.value_counts(normalize=True, dropna=True) * 100).idxmax()"
   ]
  },
  {
   "cell_type": "code",
   "execution_count": 106,
   "metadata": {},
   "outputs": [
    {
     "data": {
      "text/plain": [
       "42.0"
      ]
     },
     "execution_count": 106,
     "metadata": {},
     "output_type": "execute_result"
    }
   ],
   "source": [
    "#Проверьте, с какой платформы было сделано больше всего заказов. В ответе укажите значение в %, округлённое до целого.\n",
    "\n",
    "taxi.source.value_counts(normalize=True, dropna=True).mul(100).max().round()"
   ]
  },
  {
   "cell_type": "code",
   "execution_count": 111,
   "metadata": {},
   "outputs": [
    {
     "data": {
      "text/plain": [
       "<module 'numpy' from 'C:\\\\ProgramData\\\\Anaconda3\\\\lib\\\\site-packages\\\\numpy\\\\__init__.py'>"
      ]
     },
     "execution_count": 111,
     "metadata": {},
     "output_type": "execute_result"
    }
   ],
   "source": [
    "import numpy as np\n",
    "np.nan\n",
    "np"
   ]
  },
  {
   "cell_type": "code",
   "execution_count": 120,
   "metadata": {},
   "outputs": [],
   "source": [
    "#Проверим, как распределены оценки водителей (driver_score). Для подготовки данных выполните следующие шаги:\n",
    "#Посчитайте частоту встречаемости каждой из оценок\n",
    "#Переведите в проценты и округлите до 2 знаков после точки (.mul(100).round(2))\n",
    "#Сбросьте индексы\n",
    "#Переименуйте колонки в driver_score и percentage\n",
    "#Отсортируйте по driver_score в порядке возрастания (от 0 до 5)\n",
    "#Запишите результат в driver_score_counts\n",
    "\n",
    "driver_score_counts = taxi\\\n",
    "    .driver_score\\\n",
    "    .value_counts(normalize=True)\\\n",
    "    .mul(100)\\\n",
    "    .round(2)\\\n",
    "    .reset_index()\\\n",
    "    .rename(columns={'index' : 'driver_score', 'driver_score' : 'percentage'})\\\n",
    "    .sort_values('driver_score')"
   ]
  },
  {
   "cell_type": "code",
   "execution_count": 140,
   "metadata": {},
   "outputs": [],
   "source": [
    "rider_score_counts = taxi\\\n",
    "    .rider_score\\\n",
    "    .value_counts(normalize=True)\\\n",
    "    .mul(100)\\\n",
    "    .round(2)\\\n",
    "    .reset_index()\\\n",
    "    .rename(columns={'index' : 'rider_score', 'rider_score' : 'percentage'})\\\n",
    "    .sort_values('rider_score')"
   ]
  },
  {
   "cell_type": "code",
   "execution_count": 130,
   "metadata": {},
   "outputs": [],
   "source": [
    "import seaborn as sns\n",
    "import matplotlib.pyplot as plt\n",
    "\n",
    "%matplotlib inline"
   ]
  },
  {
   "cell_type": "code",
   "execution_count": 141,
   "metadata": {},
   "outputs": [
    {
     "data": {
      "image/png": "[encoded data removed]",
      "text/plain": [
       "<Figure size 432x288 with 1 Axes>"
      ]
     },
     "metadata": {
      "needs_background": "light"
     },
     "output_type": "display_data"
    }
   ],
   "source": [
    "ax = sns.barplot(x='driver_score', y='percentage', data=driver_score_counts, color='blue', alpha=0.5)\n",
    "ax.set(xlabel='Driver score', ylabel='Percentage')\n",
    "sns.despine()  # убрать часть рамки графика\n",
    "plt.show()"
   ]
  },
  {
   "cell_type": "code",
   "execution_count": 143,
   "metadata": {},
   "outputs": [
    {
     "data": {
      "text/html": [
       "<div>\n",
       "<style scoped>\n",
       "    .dataframe tbody tr th:only-of-type {\n",
       "        vertical-align: middle;\n",
       "    }\n",
       "\n",
       "    .dataframe tbody tr th {\n",
       "        vertical-align: top;\n",
       "    }\n",
       "\n",
       "    .dataframe thead th {\n",
       "        text-align: right;\n",
       "    }\n",
       "</style>\n",
       "<table border=\"1\" class=\"dataframe\">\n",
       "  <thead>\n",
       "    <tr style=\"text-align: right;\">\n",
       "      <th></th>\n",
       "      <th>rider_score</th>\n",
       "      <th>percentage</th>\n",
       "    </tr>\n",
       "  </thead>\n",
       "  <tbody>\n",
       "    <tr>\n",
       "      <th>2</th>\n",
       "      <td>0.0</td>\n",
       "      <td>2.29</td>\n",
       "    </tr>\n",
       "    <tr>\n",
       "      <th>4</th>\n",
       "      <td>1.0</td>\n",
       "      <td>0.21</td>\n",
       "    </tr>\n",
       "    <tr>\n",
       "      <th>5</th>\n",
       "      <td>2.0</td>\n",
       "      <td>0.19</td>\n",
       "    </tr>\n",
       "    <tr>\n",
       "      <th>3</th>\n",
       "      <td>3.0</td>\n",
       "      <td>1.38</td>\n",
       "    </tr>\n",
       "    <tr>\n",
       "      <th>1</th>\n",
       "      <td>4.0</td>\n",
       "      <td>8.83</td>\n",
       "    </tr>\n",
       "    <tr>\n",
       "      <th>0</th>\n",
       "      <td>5.0</td>\n",
       "      <td>87.10</td>\n",
       "    </tr>\n",
       "  </tbody>\n",
       "</table>\n",
       "</div>"
      ],
      "text/plain": [
       "   rider_score  percentage\n",
       "2          0.0        2.29\n",
       "4          1.0        0.21\n",
       "5          2.0        0.19\n",
       "3          3.0        1.38\n",
       "1          4.0        8.83\n",
       "0          5.0       87.10"
      ]
     },
     "execution_count": 143,
     "metadata": {},
     "output_type": "execute_result"
    }
   ],
   "source": [
    "rider_score_counts"
   ]
  },
  {
   "cell_type": "code",
   "execution_count": 138,
   "metadata": {},
   "outputs": [
    {
     "data": {
      "image/png": "[encoded data removed]",
      "text/plain": [
       "<Figure size 432x288 with 1 Axes>"
      ]
     },
     "metadata": {
      "needs_background": "light"
     },
     "output_type": "display_data"
    }
   ],
   "source": [
    "ax = sns.barplot(x='rider_score', y='percentage', data=rider_score_counts, color='blue', alpha=0.5)\n",
    "ax.set(xlabel='Rider score', ylabel='Percentage')\n",
    "sns.despine()\n",
    "plt.show()"
   ]
  },
  {
   "cell_type": "code",
   "execution_count": null,
   "metadata": {},
   "outputs": [],
   "source": []
  },
  {
   "cell_type": "code",
   "execution_count": null,
   "metadata": {},
   "outputs": [],
   "source": []
  },
  {
   "cell_type": "code",
   "execution_count": null,
   "metadata": {},
   "outputs": [],
   "source": []
  },
  {
   "cell_type": "code",
   "execution_count": null,
   "metadata": {},
   "outputs": [],
   "source": []
  }
 ],
 "metadata": {
  "kernelspec": {
   "display_name": "Python 3",
   "language": "python",
   "name": "python3"
  },
  "language_info": {
   "codemirror_mode": {
    "name": "ipython",
    "version": 3
   },
   "file_extension": ".py",
   "mimetype": "text/x-python",
   "name": "python",
   "nbconvert_exporter": "python",
   "pygments_lexer": "ipython3",
   "version": "3.7.1"
  }
 },
 "nbformat": 4,
 "nbformat_minor": 2
}
